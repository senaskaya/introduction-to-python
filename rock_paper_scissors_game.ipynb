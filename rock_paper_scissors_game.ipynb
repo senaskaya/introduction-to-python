#Please create a list containing the three actions of the game.
actions = ["rock","paper","scissors"]

#Import the random library
import random

#Select a random action for each player
action1 = random.choice(actions)
action2 = random.choice(actions)

#Use the print function to print the players choices
print("Player1's choice:",action1)
print("Player2's choice:",action2)

#1 - Tie Condition
#Please write an if statement to check if the players chose the same action
if action1 == action2:
  print( "Tie! Both players chose the same action.")

#2-Winning Conditions
#Please add the conditional statements for the remaining combinations
elif action1 == "paper" and action2 == "rock":
  print("Player1 win a point.")
elif action1 == "paper" and action2 == "scissors":
  print("Player2 win a point")
elif action1 == "scissors" and action2 == "rock":
  print("Player2 win a point")
elif action1 == "scissors" and action2 == "paper":
  print("Player1 win a point.")
elif action1 == "rock" and action2 == "paper":
  print("Player2 win a point")
elif action1 == "rock" and action2 == "scissors":
  print("Player1 win a point.")

#Please ask the user how many rounds they want to play
rounds = int(input("How many rounds do you want to play?\n"))

#Scores of players
score1 = 0
score2 = 0

#Collect all the components of your program to run it in a for loop
#Import the random library
import random

#Add the code to create a list containing the three actions of the game.
actions = ["rock","paper","scissors"]

#Add the code to set the scores of players to 0
score1 = 0
score2 = 0

#Add the code to ask the user how many rounds they want to play
rounds = int(input("How many rounds do you want to play?\n"))

#Write a for loop and put the game inside
for current_round in range(rounds):


  #Add the code to select a random action for each player
  action1 = random.choice(actions)
  action2 = random.choice(actions)


  #Add the code to print the players choices
  print("Player1's choice:",action1)
  print("Player2's choice:",action2)

  #Add the tie condition
  if action1 == action2:
    print( "Tie! Both players chose the same action so noones gets a point.")

  #Add the remaining condition
  elif action1 == "paper" and action2 == "rock":
    print("Player1 win a point.")
    score1 += 1
  elif action1 == "paper" and action2 == "scissors":
    print("Player2 win a point")
    score2 += 1
  elif action1 == "scissors" and action2 == "rock":
    print("Player2 win a point")
    score2 += 1
  elif action1 == "scissors" and action2 == "paper":
    print("Player1 win a point.")
    score1 += 1
  elif action1 == "rock" and action2 == "paper":
    print("Player2 win a point")
    score2 += 1
  elif action1 == "rock" and action2 == "scissors":
    print("Player1 win a point.")
    score1 += 1

  #print the score
print("Player1's score:",score1)
print("Player2's score:",score2)

#Collect all the components of your program to run it in a while loop
#Import the random library
import random

#Add the code to create a list containing the three actions of the game.
actions = ["rock","paper","scissors"]

#Add the code to set the scores of players to 0
score1 = 0
score2 = 0

#Add a round_counter that is 0 at the beginning
round_counter = 0

#Add the code to ask the user how many rounds they want to play
rounds = int(input("How many rounds do you want to play?\n"))

#Write a while loop and put the game inside
while True:

  #increase round_counter by 1 and print it
  round_counter += 1
  print(f"We are at the {round_counter}. round")

  #Add the code to select a random action for each player
  action1 = random.choice(actions)
  action2 = random.choice(actions)

  #Add the code to print the players choices
  print("Player1's choice:",action1)
  print("Player2's choice:",action2)

  #Add the tie condition
  if action1 == action2:
    print( "Tie! Both players chose the same action so noones gets a point.")

  #Add the remaining condition
  elif action1 == "paper" and action2 == "rock":
    print("Player1 win a point.")
    score1 += 1
  elif action1 == "paper" and action2 == "scissors":
    print("Player2 win a point")
    score2 += 1
  elif action1 == "scissors" and action2 == "rock":
    print("Player2 win a point")
    score2 += 1
  elif action1 == "scissors" and action2 == "paper":
    print("Player1 win a point.")
    score1 += 1
  elif action1 == "rock" and action2 == "paper":
    print("Player2 win a point")
    score2 += 1
  elif action1 == "rock" and action2 == "scissors":
    print("Player1 win a point.")
    score1 += 1

  #print the score
  print("Player1's score:",score1)
  print("Player2's score:",score2)


  #stop the while loop if the round_counter equals the number of total rounds
  if round_counter == rounds:
    break
#Print the outcome of the game by using conditional statements
if score1 > score2:
  print("The winner is Player 1")
elif score2 > score1:
  print("The winner is Player 2")
else:
  print("The game ended in a tie.")
